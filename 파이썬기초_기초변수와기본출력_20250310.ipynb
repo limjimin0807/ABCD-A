{
  "nbformat": 4,
  "nbformat_minor": 0,
  "metadata": {
    "colab": {
      "provenance": [],
      "include_colab_link": true
    },
    "kernelspec": {
      "name": "python3",
      "display_name": "Python 3"
    },
    "language_info": {
      "name": "python"
    }
  },
  "cells": [
    {
      "cell_type": "markdown",
      "metadata": {
        "id": "view-in-github",
        "colab_type": "text"
      },
      "source": [
        "<a href=\"https://colab.research.google.com/github/limjimin0807/ABCD-A/blob/20250310/%ED%8C%8C%EC%9D%B4%EC%8D%AC%EA%B8%B0%EC%B4%88_%EA%B8%B0%EC%B4%88%EB%B3%80%EC%88%98%EC%99%80%EA%B8%B0%EB%B3%B8%EC%B6%9C%EB%A0%A5_20250310.ipynb\" target=\"_parent\"><img src=\"https://colab.research.google.com/assets/colab-badge.svg\" alt=\"Open In Colab\"/></a>"
      ]
    },
    {
      "cell_type": "code",
      "execution_count": null,
      "metadata": {
        "colab": {
          "base_uri": "https://localhost:8080/"
        },
        "id": "IxWPKm30PZ65",
        "outputId": "356986b0-a1bc-4bf8-a0c3-7e54172309c5"
      },
      "outputs": [
        {
          "output_type": "stream",
          "name": "stdout",
          "text": [
            "100000\n"
          ]
        }
      ],
      "source": [
        "wtach = 100000\n",
        "print(wtach)"
      ]
    },
    {
      "cell_type": "code",
      "source": [
        "a = 'pig'\n",
        "b = 'dad'\n",
        "\n",
        "print(a)\n",
        "print(b)\n",
        "print(a+b)\n",
        "print(a+' '+b)"
      ],
      "metadata": {
        "colab": {
          "base_uri": "https://localhost:8080/"
        },
        "id": "BPV2ujvEQyi9",
        "outputId": "3404b026-deef-48b9-d0df-bfe87c5b585e"
      },
      "execution_count": null,
      "outputs": [
        {
          "output_type": "stream",
          "name": "stdout",
          "text": [
            "pig\n",
            "dad\n",
            "pigdad\n",
            "pig dad\n"
          ]
        }
      ]
    },
    {
      "cell_type": "code",
      "source": [
        "aa=1\n",
        "bb=100\n",
        "\n",
        "aa,bb=bb,aa\n",
        "print(aa)\n",
        "print(bb)"
      ],
      "metadata": {
        "colab": {
          "base_uri": "https://localhost:8080/"
        },
        "id": "2MEpK7P7Qy7A",
        "outputId": "75223ab7-65b4-42cf-b495-d8d746df23f5"
      },
      "execution_count": null,
      "outputs": [
        {
          "output_type": "stream",
          "name": "stdout",
          "text": [
            "100\n",
            "1\n"
          ]
        }
      ]
    },
    {
      "cell_type": "code",
      "source": [
        "a1 = [10, 20, 30]\n",
        "b1 = a1\n",
        "a1[0] = 200\n",
        "print(b1)"
      ],
      "metadata": {
        "colab": {
          "base_uri": "https://localhost:8080/"
        },
        "id": "rVoyID6eQy9v",
        "outputId": "f1853a78-1ce9-4434-89d5-769bf4e8a2b7"
      },
      "execution_count": null,
      "outputs": [
        {
          "output_type": "stream",
          "name": "stdout",
          "text": [
            "[200, 20, 30]\n"
          ]
        }
      ]
    },
    {
      "cell_type": "code",
      "source": [
        "print(\"Hello World\")\n",
        "print('Hello World')\n",
        "print(1)\n",
        "print(\"1\")\n"
      ],
      "metadata": {
        "colab": {
          "base_uri": "https://localhost:8080/"
        },
        "id": "XPFsTIESQzAM",
        "outputId": "204d8537-a995-4303-9fe1-1bf281289e84"
      },
      "execution_count": null,
      "outputs": [
        {
          "output_type": "stream",
          "name": "stdout",
          "text": [
            "Hello World\n",
            "Hello World\n",
            "1\n",
            "1\n"
          ]
        }
      ]
    },
    {
      "cell_type": "code",
      "source": [
        "c = 1\n",
        "print(\"c=\"+str(c))\n",
        "print(\"c=\",c)\n",
        "print(\"c={}\",format(c))"
      ],
      "metadata": {
        "id": "zK_JE4FJQzCw",
        "colab": {
          "base_uri": "https://localhost:8080/"
        },
        "outputId": "142c8c39-3215-4e7c-de6a-490c3526e569"
      },
      "execution_count": null,
      "outputs": [
        {
          "output_type": "stream",
          "name": "stdout",
          "text": [
            "c=1\n",
            "c= 1\n",
            "c={} 1\n"
          ]
        }
      ]
    },
    {
      "cell_type": "code",
      "source": [
        "a=[10,20,30]\n",
        "b=1\n",
        "c=2\n",
        "print(a)\n",
        "print(\"a={}\".format(a))\n",
        "print(\"b={}\".format(b))\n",
        "print(\"a={},b={},c={}\".format(a,b,c))"
      ],
      "metadata": {
        "id": "XR82E0DVQzS6",
        "colab": {
          "base_uri": "https://localhost:8080/"
        },
        "outputId": "f5d8db5b-dee0-4ae2-88bc-083b39f5ec41"
      },
      "execution_count": null,
      "outputs": [
        {
          "output_type": "stream",
          "name": "stdout",
          "text": [
            "[10, 20, 30]\n",
            "a=[10, 20, 30]\n",
            "b=1\n",
            "a=[10, 20, 30],b=1,c=2\n"
          ]
        }
      ]
    }
  ]
}